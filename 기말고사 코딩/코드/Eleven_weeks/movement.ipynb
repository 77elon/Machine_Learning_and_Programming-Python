{
 "cells": [
  {
   "cell_type": "code",
   "execution_count": 24,
   "metadata": {
    "scrolled": true
   },
   "outputs": [
    {
     "data": {
      "image/png": "[encoded data removed]",
      "text/plain": [
       "<Figure size 432x288 with 1 Axes>"
      ]
     },
     "metadata": {
      "needs_background": "light"
     },
     "output_type": "display_data"
    },
    {
     "name": "stdout",
     "output_type": "stream",
     "text": [
      "[759.05334425]\n",
      "[1264.94665575]\n"
     ]
    }
   ],
   "source": [
    "import numpy as np\n",
    "import matplotlib.pyplot as plt\n",
    "\n",
    "count = 100\n",
    "\n",
    "popular = np.array([[982], [1042]])\n",
    "move = np.array([[0.95, 0.03], [0.05, 0.97]])\n",
    "\n",
    "s = [982]\n",
    "g = [1042]\n",
    "\n",
    "\n",
    "for i in range(count):\n",
    "    popular = np.dot(move, popular)\n",
    "    s.append(popular[0])\n",
    "    g.append(popular[1])\n",
    "\n",
    "plt.plot(s)\n",
    "plt.plot(g)\n",
    "plt.show()\n",
    "\n",
    "print(s[100])\n",
    "print(g[100])"
   ]
  },
  {
   "cell_type": "code",
   "execution_count": null,
   "metadata": {},
   "outputs": [],
   "source": []
  },
  {
   "cell_type": "code",
   "execution_count": null,
   "metadata": {},
   "outputs": [],
   "source": []
  },
  {
   "cell_type": "code",
   "execution_count": null,
   "metadata": {},
   "outputs": [],
   "source": []
  }
 ],
 "metadata": {
  "kernelspec": {
   "display_name": "Python [conda env:shared_env_py27_tfc115]",
   "language": "python",
   "name": "conda-env-shared_env_py27_tfc115-py"
  },
  "language_info": {
   "codemirror_mode": {
    "name": "ipython",
    "version": 2
   },
   "file_extension": ".py",
   "mimetype": "text/x-python",
   "name": "python",
   "nbconvert_exporter": "python",
   "pygments_lexer": "ipython2",
   "version": "2.7.18"
  }
 },
 "nbformat": 4,
 "nbformat_minor": 4
}
