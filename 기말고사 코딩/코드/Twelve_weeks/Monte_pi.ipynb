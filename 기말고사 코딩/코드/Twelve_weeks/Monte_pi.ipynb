{
 "cells": [
  {
   "cell_type": "code",
   "execution_count": 1,
   "metadata": {
    "scrolled": true
   },
   "outputs": [
    {
     "output_type": "stream",
     "name": "stdout",
     "text": [
      "3.1264\n"
     ]
    }
   ],
   "source": [
    "import numpy\n",
    "import random\n",
    "#plot?\n",
    "\n",
    "n=5000\n",
    "count=0.0\n",
    "for i in range(n):\n",
    "  x=random.random()\n",
    "  y=random.random()\n",
    "  if(x*x+y*y<1):\n",
    "    count+=1\n",
    "result=4*count/n\n",
    "\n",
    "print(result)"
   ]
  }
 ],
 "metadata": {
  "kernelspec": {
   "name": "python3",
   "display_name": "Python 3.8.5 64-bit ('base': conda)"
  },
  "language_info": {
   "codemirror_mode": {
    "name": "ipython",
    "version": 2
   },
   "file_extension": ".py",
   "mimetype": "text/x-python",
   "name": "python",
   "nbconvert_exporter": "python",
   "pygments_lexer": "ipython2",
   "version": "3.8.5"
  },
  "interpreter": {
   "hash": "5fda826b5541d207c2979a31178c97dddc71def27cdd6e77db008b64eb24ebde"
  }
 },
 "nbformat": 4,
 "nbformat_minor": 4
}