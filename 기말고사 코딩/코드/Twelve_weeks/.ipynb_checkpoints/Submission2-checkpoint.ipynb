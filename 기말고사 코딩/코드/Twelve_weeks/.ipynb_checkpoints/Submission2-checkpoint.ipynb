{
 "cells": [
  {
   "cell_type": "code",
   "execution_count": 18,
   "metadata": {
    "scrolled": true
   },
   "outputs": [
    {
     "name": "stdout",
     "output_type": "stream",
     "text": [
      "3.1632\n"
     ]
    }
   ],
   "source": [
    "import numpy\n",
    "import random\n",
    "#plot?\n",
    "\n",
    "n=5000\n",
    "count=0.0\n",
    "for i in range(n):\n",
    "  x=random.random()\n",
    "  y=random.random()\n",
    "  if(x*x+y*y<1):\n",
    "    count+=1\n",
    "result=4*count/n\n",
    "\n",
    "print(result)"
   ]
  },
  {
   "cell_type": "code",
   "execution_count": null,
   "metadata": {},
   "outputs": [],
   "source": []
  },
  {
   "cell_type": "code",
   "execution_count": null,
   "metadata": {},
   "outputs": [],
   "source": []
  },
  {
   "cell_type": "code",
   "execution_count": null,
   "metadata": {},
   "outputs": [],
   "source": []
  },
  {
   "cell_type": "code",
   "execution_count": null,
   "metadata": {},
   "outputs": [],
   "source": []
  }
 ],
 "metadata": {
  "kernelspec": {
   "display_name": "Python [conda env:shared_env_py27_tfc115]",
   "language": "python",
   "name": "conda-env-shared_env_py27_tfc115-py"
  },
  "language_info": {
   "codemirror_mode": {
    "name": "ipython",
    "version": 2
   },
   "file_extension": ".py",
   "mimetype": "text/x-python",
   "name": "python",
   "nbconvert_exporter": "python",
   "pygments_lexer": "ipython2",
   "version": "2.7.18"
  }
 },
 "nbformat": 4,
 "nbformat_minor": 4
}
