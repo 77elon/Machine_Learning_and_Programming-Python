{
 "cells": [
  {
   "cell_type": "code",
   "execution_count": 1,
   "metadata": {
    "scrolled": true
   },
   "outputs": [
    {
     "output_type": "stream",
     "name": "stdout",
     "text": [
      "1.875\n"
     ]
    }
   ],
   "source": [
    "import numpy\n",
    "\n",
    "def calc(x):\n",
    "    return 3 * x ** 2;\n",
    "\n",
    "def Operator(n, m):\n",
    "    tmp = 0.0\n",
    "    tmp1 = 0.0\n",
    "    for n in numpy.arange(n, m, 0.5):\n",
    "        tmp = calc(n + 0.5)\n",
    "        tmp1 += 0.5 * tmp\n",
    "    return tmp1;\n",
    "\n",
    "    \n",
    "result = Operator(0.0, 1.0)\n",
    "\n",
    "print(result)"
   ]
  },
  {
   "cell_type": "code",
   "execution_count": null,
   "metadata": {},
   "outputs": [],
   "source": []
  }
 ],
 "metadata": {
  "kernelspec": {
   "name": "python3",
   "display_name": "Python 3.8.5 64-bit ('base': conda)"
  },
  "language_info": {
   "codemirror_mode": {
    "name": "ipython",
    "version": 2
   },
   "file_extension": ".py",
   "mimetype": "text/x-python",
   "name": "python",
   "nbconvert_exporter": "python",
   "pygments_lexer": "ipython2",
   "version": "3.8.5"
  },
  "interpreter": {
   "hash": "5fda826b5541d207c2979a31178c97dddc71def27cdd6e77db008b64eb24ebde"
  }
 },
 "nbformat": 4,
 "nbformat_minor": 4
}